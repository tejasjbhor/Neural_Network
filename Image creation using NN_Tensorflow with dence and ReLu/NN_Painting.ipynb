{
  "nbformat": 4,
  "nbformat_minor": 0,
  "metadata": {
    "colab": {
      "name": "NN_Painting.ipynb",
      "version": "0.3.2",
      "provenance": []
    },
    "kernelspec": {
      "name": "python3",
      "display_name": "Python 3"
    },
    "accelerator": "GPU"
  },
  "cells": [
    {
      "cell_type": "code",
      "metadata": {
        "id": "pNtFaAYspy48",
        "colab_type": "code",
        "colab": {}
      },
      "source": [
        ""
      ],
      "execution_count": 0,
      "outputs": []
    },
    {
      "cell_type": "code",
      "metadata": {
        "id": "t7KTkS21p1_C",
        "colab_type": "code",
        "colab": {
          "base_uri": "https://localhost:8080/",
          "height": 121
        },
        "outputId": "c206145d-feaf-4d1b-df22-2f4466a6c6b7"
      },
      "source": [
        "from google.colab import drive\n",
        "drive.mount('/content/drive')"
      ],
      "execution_count": 1,
      "outputs": [
        {
          "output_type": "stream",
          "text": [
            "Go to this URL in a browser: https://accounts.google.com/o/oauth2/auth?client_id=947318989803-6bn6qk8qdgf4n4g3pfee6491hc0brc4i.apps.googleusercontent.com&redirect_uri=urn%3Aietf%3Awg%3Aoauth%3A2.0%3Aoob&scope=email%20https%3A%2F%2Fwww.googleapis.com%2Fauth%2Fdocs.test%20https%3A%2F%2Fwww.googleapis.com%2Fauth%2Fdrive%20https%3A%2F%2Fwww.googleapis.com%2Fauth%2Fdrive.photos.readonly%20https%3A%2F%2Fwww.googleapis.com%2Fauth%2Fpeopleapi.readonly&response_type=code\n",
            "\n",
            "Enter your authorization code:\n",
            "··········\n",
            "Mounted at /content/drive\n"
          ],
          "name": "stdout"
        }
      ]
    },
    {
      "cell_type": "code",
      "metadata": {
        "id": "p1Xa1RoXp8Md",
        "colab_type": "code",
        "colab": {
          "base_uri": "https://localhost:8080/",
          "height": 286
        },
        "outputId": "8ad7e410-56dc-4fcb-b3a8-611c28ad1bc6"
      },
      "source": [
        "import tensorflow as tf\n",
        "import numpy as np\n",
        "import matplotlib.pyplot as plt\n",
        "\n",
        "img = plt.imread('trees.png')\n",
        "\n",
        "img = img[:,:,:3]\n",
        "\n",
        "plt.imshow(img) # here we read image in r , g , b only ont ALPHA channel"
      ],
      "execution_count": 3,
      "outputs": [
        {
          "output_type": "execute_result",
          "data": {
            "text/plain": [
              "<matplotlib.image.AxesImage at 0x7f63a18d6978>"
            ]
          },
          "metadata": {
            "tags": []
          },
          "execution_count": 3
        },
        {
          "output_type": "display_data",
          "data": {
            "image/png": "[encoded data removed]",
            "text/plain": [
              "<Figure size 432x288 with 1 Axes>"
            ]
          },
          "metadata": {
            "tags": []
          }
        }
      ]
    },
    {
      "cell_type": "code",
      "metadata": {
        "id": "tz_BhnydqJMy",
        "colab_type": "code",
        "colab": {}
      },
      "source": [
        "#img = img[:,:,:3]\n",
        "\n",
        "\n",
        "\n",
        "# we are taking image as input and reading pixel byb pixel and with only in RGB form\n",
        "\n",
        "# SO we need to create datatset hence we take 2 arrays \n",
        "\n",
        "train_x = []\n",
        "train_y = []\n",
        "\n",
        "# looping over height and width\n",
        "\n",
        "for h in range(img.shape[0]):\n",
        "    for w in range(img.shape[1]):\n",
        "        train_x += [[h,w]]# adding X and Y of each pixcel\n",
        "        train_y += [img[h,w]]# adding RGB of each pixcel\n",
        "\n",
        "    # converting both in numpy array\n",
        "    \n",
        "train_x = np.array(train_x)\n",
        "train_y = np.array(train_y)"
      ],
      "execution_count": 0,
      "outputs": []
    },
    {
      "cell_type": "code",
      "metadata": {
        "id": "FbtUy4rMqL9R",
        "colab_type": "code",
        "colab": {}
      },
      "source": [
        "with tf.variable_scope(\"placeholders\"):\n",
        "    x = tf.placeholder(tf.float32, shape=(None, 2), name=\"X\")\n",
        "    y = tf.placeholder(tf.float32, shape=(None, 3), name=\"Y\")"
      ],
      "execution_count": 0,
      "outputs": []
    },
    {
      "cell_type": "code",
      "metadata": {
        "id": "Jv25eMu5qNw5",
        "colab_type": "code",
        "colab": {}
      },
      "source": [
        "hidden_size = 250\n",
        "with tf.variable_scope(\"dense_1\"):\n",
        "    w_1 = tf.get_variable(\"W_1\", shape=(2,hidden_size), initializer=tf.random_normal_initializer(mean=0.0, stddev=0.01))\n",
        "    b_1 = tf.get_variable(\"b_1\", shape=(hidden_size,), initializer=tf.truncated_normal_initializer)\n",
        "    \n",
        "with tf.variable_scope(\"dense_2\"):\n",
        "    w_2 = tf.get_variable(\"W_2\", shape=(hidden_size,hidden_size), initializer=tf.random_normal_initializer(mean=0.0, stddev=0.01))\n",
        "    b_2 = tf.get_variable(\"b_2\", shape=(hidden_size,), initializer=tf.truncated_normal_initializer)\n",
        "    \n",
        "with tf.variable_scope(\"dense_3\"):\n",
        "    w_3 = tf.get_variable(\"W_3\", shape=(hidden_size,hidden_size), initializer=tf.random_normal_initializer(mean=0.0, stddev=0.01))\n",
        "    b_3 = tf.get_variable(\"b_3\", shape=(hidden_size,), initializer=tf.truncated_normal_initializer)\n",
        "    \n",
        "with tf.variable_scope(\"dense_4\"):\n",
        "    w_4 = tf.get_variable(\"W_4\", shape=(hidden_size,hidden_size), initializer=tf.random_normal_initializer(mean=0.0, stddev=0.01))\n",
        "    b_4 = tf.get_variable(\"b_4\", shape=(hidden_size,), initializer=tf.truncated_normal_initializer)\n",
        "    \n",
        "with tf.variable_scope(\"dense_5\"):\n",
        "    w_5 = tf.get_variable(\"W_5\", shape=(hidden_size,hidden_size), initializer=tf.random_normal_initializer(mean=0.0, stddev=0.01))\n",
        "    b_5 = tf.get_variable(\"b_5\", shape=(hidden_size,), initializer=tf.truncated_normal_initializer)\n",
        "    \n",
        "with tf.variable_scope(\"dense_6\"):\n",
        "    w_6 = tf.get_variable(\"W_6\", shape=(hidden_size,hidden_size), initializer=tf.random_normal_initializer(mean=0.0, stddev=0.01))\n",
        "    b_6 = tf.get_variable(\"b_6\", shape=(hidden_size,), initializer=tf.truncated_normal_initializer)\n",
        "\n",
        "with tf.variable_scope(\"dense_7\"):\n",
        "    w_7 = tf.get_variable(\"W_7\", shape=(hidden_size,hidden_size), initializer=tf.random_normal_initializer(mean=0.0, stddev=0.01))\n",
        "    b_7 = tf.get_variable(\"b_7\", shape=(hidden_size,), initializer=tf.truncated_normal_initializer)\n",
        "\n",
        "with tf.variable_scope(\"dense_8\"):\n",
        "    w_8 = tf.get_variable(\"W_8\", shape=(hidden_size,3), initializer=tf.random_normal_initializer(mean=0.0, stddev=0.01))\n",
        "    b_8 = tf.get_variable(\"b_8\", shape=(3,), initializer=tf.truncated_normal_initializer)"
      ],
      "execution_count": 0,
      "outputs": []
    },
    {
      "cell_type": "code",
      "metadata": {
        "id": "X-z13EIqqU8c",
        "colab_type": "code",
        "colab": {}
      },
      "source": [
        "l_1 = tf.nn.relu(tf.matmul(x, w_1) + b_1)\n",
        "l_2 = tf.nn.relu(tf.matmul(l_1, w_2) + b_2)\n",
        "l_3 = tf.nn.relu(tf.matmul(l_2, w_3) + b_3)\n",
        "l_4 = tf.nn.relu(tf.matmul(l_3, w_4) + b_4)\n",
        "l_5 = tf.nn.relu(tf.matmul(l_4, w_5) + b_5)\n",
        "l_6 = tf.nn.relu(tf.matmul(l_5, w_6) + b_6)\n",
        "l_7 = tf.nn.relu(tf.matmul(l_6, w_7) + b_7)\n",
        "out = tf.matmul(l_7, w_8) + b_8"
      ],
      "execution_count": 0,
      "outputs": []
    },
    {
      "cell_type": "code",
      "metadata": {
        "id": "Q34qzFZkqYLZ",
        "colab_type": "code",
        "colab": {}
      },
      "source": [
        "loss = tf.losses.mean_squared_error(y, out)"
      ],
      "execution_count": 0,
      "outputs": []
    },
    {
      "cell_type": "code",
      "metadata": {
        "id": "dX-5NRp5qaqW",
        "colab_type": "code",
        "colab": {}
      },
      "source": [
        "learning_rate = tf.placeholder(tf.float32, shape=[])\n",
        "optimizer = tf.train.AdamOptimizer(learning_rate).minimize(loss)"
      ],
      "execution_count": 0,
      "outputs": []
    },
    {
      "cell_type": "code",
      "metadata": {
        "id": "5gJzy-3XqeN8",
        "colab_type": "code",
        "colab": {}
      },
      "source": [
        "sess = tf.Session()"
      ],
      "execution_count": 0,
      "outputs": []
    },
    {
      "cell_type": "code",
      "metadata": {
        "id": "7KqSIxZ1qgp_",
        "colab_type": "code",
        "colab": {}
      },
      "source": [
        "tf.global_variables_initializer().run(session=sess)\n",
        "seq = 1"
      ],
      "execution_count": 0,
      "outputs": []
    },
    {
      "cell_type": "code",
      "metadata": {
        "id": "Ocl3LbeQqiq1",
        "colab_type": "code",
        "colab": {
          "base_uri": "https://localhost:8080/",
          "height": 1000
        },
        "outputId": "6a918d50-7a7d-45a4-f9d6-63dc51ee5615"
      },
      "source": [
        "feed_dict = {x : train_x, y : train_y, learning_rate: 0.1}\n",
        "for step in range(30000):\n",
        "    if (step < 100 and step % 10 == 0) or step % 100 == 0:\n",
        "        l, predictions = sess.run(\n",
        "            [loss, out], feed_dict = feed_dict\n",
        "        )\n",
        "        print('loss at step {0}: {1}'.format(step, l))\n",
        "        painting = predictions.reshape((img.shape[0], img.shape[1], 3))\n",
        "        painting[painting>1] = 1\n",
        "        painting[painting<0] = 0\n",
        "        plt.imshow(painting)\n",
        "        #fname = \"%04d.png\" % seq\n",
        "        #plt.imsave(fname, painting)\n",
        "        plt.show()\n",
        "        seq = seq + 1\n",
        "        #plt.hist(predictions)\n",
        "        #plt.show()\n",
        "        \n",
        "        \n",
        "    _ = sess.run(\n",
        "        [optimizer], feed_dict = feed_dict\n",
        "    )"
      ],
      "execution_count": 15,
      "outputs": [
        {
          "output_type": "stream",
          "text": [
            "loss at step 0: 0.07585529237985611\n",
            "loss at step 10: 0.07585529237985611\n",
            "loss at step 20: 0.07585529237985611\n",
            "loss at step 30: 0.07585529237985611\n",
            "loss at step 40: 0.07585529237985611\n",
            "loss at step 50: 0.07585529237985611\n",
            "loss at step 60: 0.07585529237985611\n",
            "loss at step 70: 0.07585529237985611\n",
            "loss at step 80: 0.07585529237985611\n",
            "loss at step 90: 0.07585529237985611\n",
            "loss at step 100: 0.07585529237985611\n",
            "loss at step 200: 0.07585529237985611\n",
            "loss at step 300: 0.07585529237985611\n",
            "loss at step 400: 0.07585529237985611\n",
            "loss at step 500: 0.0758552998304367\n",
            "loss at step 600: 0.0758552998304367\n",
            "loss at step 700: 0.0758552998304367\n",
            "loss at step 800: 0.0758552998304367\n",
            "loss at step 900: 0.0758552998304367\n",
            "loss at step 1000: 0.0758552998304367\n",
            "loss at step 1100: 0.0758552998304367\n",
            "loss at step 1200: 0.0758552998304367\n",
            "loss at step 1300: 0.0758552998304367\n"
          ],
          "name": "stdout"
        },
        {
          "output_type": "error",
          "ename": "KeyboardInterrupt",
          "evalue": "ignored",
          "traceback": [
            "\u001b[0;31m---------------------------------------------------------------------------\u001b[0m",
            "\u001b[0;31mKeyboardInterrupt\u001b[0m                         Traceback (most recent call last)",
            "\u001b[0;32m<ipython-input-15-ff9d5e654425>\u001b[0m in \u001b[0;36m<module>\u001b[0;34m()\u001b[0m\n\u001b[1;32m     19\u001b[0m \u001b[0;34m\u001b[0m\u001b[0m\n\u001b[1;32m     20\u001b[0m     _ = sess.run(\n\u001b[0;32m---> 21\u001b[0;31m         \u001b[0;34m[\u001b[0m\u001b[0moptimizer\u001b[0m\u001b[0;34m]\u001b[0m\u001b[0;34m,\u001b[0m \u001b[0mfeed_dict\u001b[0m \u001b[0;34m=\u001b[0m \u001b[0mfeed_dict\u001b[0m\u001b[0;34m\u001b[0m\u001b[0;34m\u001b[0m\u001b[0m\n\u001b[0m\u001b[1;32m     22\u001b[0m     )\n",
            "\u001b[0;32m/usr/local/lib/python3.6/dist-packages/tensorflow/python/client/session.py\u001b[0m in \u001b[0;36mrun\u001b[0;34m(self, fetches, feed_dict, options, run_metadata)\u001b[0m\n\u001b[1;32m    948\u001b[0m     \u001b[0;32mtry\u001b[0m\u001b[0;34m:\u001b[0m\u001b[0;34m\u001b[0m\u001b[0;34m\u001b[0m\u001b[0m\n\u001b[1;32m    949\u001b[0m       result = self._run(None, fetches, feed_dict, options_ptr,\n\u001b[0;32m--> 950\u001b[0;31m                          run_metadata_ptr)\n\u001b[0m\u001b[1;32m    951\u001b[0m       \u001b[0;32mif\u001b[0m \u001b[0mrun_metadata\u001b[0m\u001b[0;34m:\u001b[0m\u001b[0;34m\u001b[0m\u001b[0;34m\u001b[0m\u001b[0m\n\u001b[1;32m    952\u001b[0m         \u001b[0mproto_data\u001b[0m \u001b[0;34m=\u001b[0m \u001b[0mtf_session\u001b[0m\u001b[0;34m.\u001b[0m\u001b[0mTF_GetBuffer\u001b[0m\u001b[0;34m(\u001b[0m\u001b[0mrun_metadata_ptr\u001b[0m\u001b[0;34m)\u001b[0m\u001b[0;34m\u001b[0m\u001b[0;34m\u001b[0m\u001b[0m\n",
            "\u001b[0;32m/usr/local/lib/python3.6/dist-packages/tensorflow/python/client/session.py\u001b[0m in \u001b[0;36m_run\u001b[0;34m(self, handle, fetches, feed_dict, options, run_metadata)\u001b[0m\n\u001b[1;32m   1171\u001b[0m     \u001b[0;32mif\u001b[0m \u001b[0mfinal_fetches\u001b[0m \u001b[0;32mor\u001b[0m \u001b[0mfinal_targets\u001b[0m \u001b[0;32mor\u001b[0m \u001b[0;34m(\u001b[0m\u001b[0mhandle\u001b[0m \u001b[0;32mand\u001b[0m \u001b[0mfeed_dict_tensor\u001b[0m\u001b[0;34m)\u001b[0m\u001b[0;34m:\u001b[0m\u001b[0;34m\u001b[0m\u001b[0;34m\u001b[0m\u001b[0m\n\u001b[1;32m   1172\u001b[0m       results = self._do_run(handle, final_targets, final_fetches,\n\u001b[0;32m-> 1173\u001b[0;31m                              feed_dict_tensor, options, run_metadata)\n\u001b[0m\u001b[1;32m   1174\u001b[0m     \u001b[0;32melse\u001b[0m\u001b[0;34m:\u001b[0m\u001b[0;34m\u001b[0m\u001b[0;34m\u001b[0m\u001b[0m\n\u001b[1;32m   1175\u001b[0m       \u001b[0mresults\u001b[0m \u001b[0;34m=\u001b[0m \u001b[0;34m[\u001b[0m\u001b[0;34m]\u001b[0m\u001b[0;34m\u001b[0m\u001b[0;34m\u001b[0m\u001b[0m\n",
            "\u001b[0;32m/usr/local/lib/python3.6/dist-packages/tensorflow/python/client/session.py\u001b[0m in \u001b[0;36m_do_run\u001b[0;34m(self, handle, target_list, fetch_list, feed_dict, options, run_metadata)\u001b[0m\n\u001b[1;32m   1348\u001b[0m     \u001b[0;32mif\u001b[0m \u001b[0mhandle\u001b[0m \u001b[0;32mis\u001b[0m \u001b[0;32mNone\u001b[0m\u001b[0;34m:\u001b[0m\u001b[0;34m\u001b[0m\u001b[0;34m\u001b[0m\u001b[0m\n\u001b[1;32m   1349\u001b[0m       return self._do_call(_run_fn, feeds, fetches, targets, options,\n\u001b[0;32m-> 1350\u001b[0;31m                            run_metadata)\n\u001b[0m\u001b[1;32m   1351\u001b[0m     \u001b[0;32melse\u001b[0m\u001b[0;34m:\u001b[0m\u001b[0;34m\u001b[0m\u001b[0;34m\u001b[0m\u001b[0m\n\u001b[1;32m   1352\u001b[0m       \u001b[0;32mreturn\u001b[0m \u001b[0mself\u001b[0m\u001b[0;34m.\u001b[0m\u001b[0m_do_call\u001b[0m\u001b[0;34m(\u001b[0m\u001b[0m_prun_fn\u001b[0m\u001b[0;34m,\u001b[0m \u001b[0mhandle\u001b[0m\u001b[0;34m,\u001b[0m \u001b[0mfeeds\u001b[0m\u001b[0;34m,\u001b[0m \u001b[0mfetches\u001b[0m\u001b[0;34m)\u001b[0m\u001b[0;34m\u001b[0m\u001b[0;34m\u001b[0m\u001b[0m\n",
            "\u001b[0;32m/usr/local/lib/python3.6/dist-packages/tensorflow/python/client/session.py\u001b[0m in \u001b[0;36m_do_call\u001b[0;34m(self, fn, *args)\u001b[0m\n\u001b[1;32m   1354\u001b[0m   \u001b[0;32mdef\u001b[0m \u001b[0m_do_call\u001b[0m\u001b[0;34m(\u001b[0m\u001b[0mself\u001b[0m\u001b[0;34m,\u001b[0m \u001b[0mfn\u001b[0m\u001b[0;34m,\u001b[0m \u001b[0;34m*\u001b[0m\u001b[0margs\u001b[0m\u001b[0;34m)\u001b[0m\u001b[0;34m:\u001b[0m\u001b[0;34m\u001b[0m\u001b[0;34m\u001b[0m\u001b[0m\n\u001b[1;32m   1355\u001b[0m     \u001b[0;32mtry\u001b[0m\u001b[0;34m:\u001b[0m\u001b[0;34m\u001b[0m\u001b[0;34m\u001b[0m\u001b[0m\n\u001b[0;32m-> 1356\u001b[0;31m       \u001b[0;32mreturn\u001b[0m \u001b[0mfn\u001b[0m\u001b[0;34m(\u001b[0m\u001b[0;34m*\u001b[0m\u001b[0margs\u001b[0m\u001b[0;34m)\u001b[0m\u001b[0;34m\u001b[0m\u001b[0;34m\u001b[0m\u001b[0m\n\u001b[0m\u001b[1;32m   1357\u001b[0m     \u001b[0;32mexcept\u001b[0m \u001b[0merrors\u001b[0m\u001b[0;34m.\u001b[0m\u001b[0mOpError\u001b[0m \u001b[0;32mas\u001b[0m \u001b[0me\u001b[0m\u001b[0;34m:\u001b[0m\u001b[0;34m\u001b[0m\u001b[0;34m\u001b[0m\u001b[0m\n\u001b[1;32m   1358\u001b[0m       \u001b[0mmessage\u001b[0m \u001b[0;34m=\u001b[0m \u001b[0mcompat\u001b[0m\u001b[0;34m.\u001b[0m\u001b[0mas_text\u001b[0m\u001b[0;34m(\u001b[0m\u001b[0me\u001b[0m\u001b[0;34m.\u001b[0m\u001b[0mmessage\u001b[0m\u001b[0;34m)\u001b[0m\u001b[0;34m\u001b[0m\u001b[0;34m\u001b[0m\u001b[0m\n",
            "\u001b[0;32m/usr/local/lib/python3.6/dist-packages/tensorflow/python/client/session.py\u001b[0m in \u001b[0;36m_run_fn\u001b[0;34m(feed_dict, fetch_list, target_list, options, run_metadata)\u001b[0m\n\u001b[1;32m   1339\u001b[0m       \u001b[0mself\u001b[0m\u001b[0;34m.\u001b[0m\u001b[0m_extend_graph\u001b[0m\u001b[0;34m(\u001b[0m\u001b[0;34m)\u001b[0m\u001b[0;34m\u001b[0m\u001b[0;34m\u001b[0m\u001b[0m\n\u001b[1;32m   1340\u001b[0m       return self._call_tf_sessionrun(\n\u001b[0;32m-> 1341\u001b[0;31m           options, feed_dict, fetch_list, target_list, run_metadata)\n\u001b[0m\u001b[1;32m   1342\u001b[0m \u001b[0;34m\u001b[0m\u001b[0m\n\u001b[1;32m   1343\u001b[0m     \u001b[0;32mdef\u001b[0m \u001b[0m_prun_fn\u001b[0m\u001b[0;34m(\u001b[0m\u001b[0mhandle\u001b[0m\u001b[0;34m,\u001b[0m \u001b[0mfeed_dict\u001b[0m\u001b[0;34m,\u001b[0m \u001b[0mfetch_list\u001b[0m\u001b[0;34m)\u001b[0m\u001b[0;34m:\u001b[0m\u001b[0;34m\u001b[0m\u001b[0;34m\u001b[0m\u001b[0m\n",
            "\u001b[0;32m/usr/local/lib/python3.6/dist-packages/tensorflow/python/client/session.py\u001b[0m in \u001b[0;36m_call_tf_sessionrun\u001b[0;34m(self, options, feed_dict, fetch_list, target_list, run_metadata)\u001b[0m\n\u001b[1;32m   1427\u001b[0m     return tf_session.TF_SessionRun_wrapper(\n\u001b[1;32m   1428\u001b[0m         \u001b[0mself\u001b[0m\u001b[0;34m.\u001b[0m\u001b[0m_session\u001b[0m\u001b[0;34m,\u001b[0m \u001b[0moptions\u001b[0m\u001b[0;34m,\u001b[0m \u001b[0mfeed_dict\u001b[0m\u001b[0;34m,\u001b[0m \u001b[0mfetch_list\u001b[0m\u001b[0;34m,\u001b[0m \u001b[0mtarget_list\u001b[0m\u001b[0;34m,\u001b[0m\u001b[0;34m\u001b[0m\u001b[0;34m\u001b[0m\u001b[0m\n\u001b[0;32m-> 1429\u001b[0;31m         run_metadata)\n\u001b[0m\u001b[1;32m   1430\u001b[0m \u001b[0;34m\u001b[0m\u001b[0m\n\u001b[1;32m   1431\u001b[0m   \u001b[0;32mdef\u001b[0m \u001b[0m_call_tf_sessionprun\u001b[0m\u001b[0;34m(\u001b[0m\u001b[0mself\u001b[0m\u001b[0;34m,\u001b[0m \u001b[0mhandle\u001b[0m\u001b[0;34m,\u001b[0m \u001b[0mfeed_dict\u001b[0m\u001b[0;34m,\u001b[0m \u001b[0mfetch_list\u001b[0m\u001b[0;34m)\u001b[0m\u001b[0;34m:\u001b[0m\u001b[0;34m\u001b[0m\u001b[0;34m\u001b[0m\u001b[0m\n",
            "\u001b[0;31mKeyboardInterrupt\u001b[0m: "
          ]
        },
        {
          "output_type": "display_data",
          "data": {
            "image/png": "[encoded data removed]",
            "text/plain": [
              "<Figure size 432x288 with 1 Axes>"
            ]
          },
          "metadata": {
            "tags": []
          }
        }
      ]
    },
    {
      "cell_type": "code",
      "metadata": {
        "id": "nCU8u22FqlIK",
        "colab_type": "code",
        "colab": {}
      },
      "source": [
        ""
      ],
      "execution_count": 0,
      "outputs": []
    }
  ]
}