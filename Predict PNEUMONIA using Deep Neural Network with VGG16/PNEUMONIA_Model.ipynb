{
  "nbformat": 4,
  "nbformat_minor": 0,
  "metadata": {
    "colab": {
      "name": "PNEUMONIA_Prediction using Keras_2.ipynb",
      "version": "0.3.2",
      "provenance": [],
      "collapsed_sections": []
    },
    "kernelspec": {
      "name": "python3",
      "display_name": "Python 3"
    }
  },
  "cells": [
    {
      "cell_type": "code",
      "metadata": {
        "id": "eoHE5btVY74c",
        "colab_type": "code",
        "colab": {}
      },
      "source": [
        "from keras.models import load_model\n",
        "from keras.preprocessing import image\n",
        "from keras.applications.vgg16 import preprocess_input\n",
        "import numpy as np"
      ],
      "execution_count": 0,
      "outputs": []
    },
    {
      "cell_type": "code",
      "metadata": {
        "id": "LMAePdLuZJ1g",
        "colab_type": "code",
        "colab": {}
      },
      "source": [
        "model = load_model('/content/drive/My Drive/Colab Notebooks/model_pnu_vgg16.h5')\n",
        "img = image.load_img('/content/drive/My Drive/Colab Notebooks/chest_xray/val/PNEUMONIA/person1946_bacteria_4874.jpeg', target_size=(224, 224))\n",
        "x = image.img_to_array(img)\n",
        "x = np.expand_dims(x, axis=0)\n",
        "img_data = preprocess_input(x)"
      ],
      "execution_count": 0,
      "outputs": []
    },
    {
      "cell_type": "code",
      "metadata": {
        "id": "lbulix0TZcMv",
        "colab_type": "code",
        "colab": {}
      },
      "source": [
        "classes = model.predict(img_data)"
      ],
      "execution_count": 0,
      "outputs": []
    }
  ]
}