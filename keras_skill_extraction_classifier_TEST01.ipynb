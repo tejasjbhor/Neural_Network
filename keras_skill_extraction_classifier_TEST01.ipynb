{
 "cells": [
  {
   "cell_type": "code",
   "execution_count": null,
   "metadata": {},
   "outputs": [],
   "source": [
    "import tensorflow as tf\n",
    "import tensorflow \n",
    "\n",
    "from tensorflow import keras\n",
    "from keras.layers import Dense"
   ]
  },
  {
   "cell_type": "code",
   "execution_count": null,
   "metadata": {},
   "outputs": [],
   "source": [
    "class SkillsExtractorNN:\n",
    "\n",
    "    def __init__(self, word_features_dim, dense_features_dim):\n",
    "\n",
    "        lstm_input_phrase = keras.layers.Input(shape=(None, word_features_dim))\n",
    "        lstm_input_cont = keras.layers.Input(shape=(None, word_features_dim))\n",
    "        dense_input = keras.layers.Input(shape=(dense_features_dim,))\n",
    "\n",
    "        lstm_emb_phrase = keras.layers.LSTM(256)(lstm_input_phrase)\n",
    "        lstm_emb_phrase = keras.layers.Dense(128, activation='relu')(lstm_emb_phrase)\n",
    "\n",
    "        lstm_emb_cont = keras.layers.LSTM(256)(lstm_input_cont)\n",
    "        lstm_emb_cont = keras.layers.Dense(128, activation='relu')(lstm_emb_cont)\n",
    "\n",
    "        dense_emb = keras.layers.Dense(512, activation='relu')(dense_input)\n",
    "        dense_emb = keras.layers.Dense(256, activation='relu')(dense_emb)\n",
    "\n",
    "        x = keras.layers.concatenate([lstm_emb_phrase, lstm_emb_cont, dense_emb])\n",
    "        x = keras.layers.Dense(128, activation='relu')(x)\n",
    "        x = keras.layers.Dense(64, activation='relu')(x)\n",
    "        x = keras.layers.Dense(32, activation='relu')(x)\n",
    "\n",
    "        main_output = keras.layers.Dense(2, activation='softplus')(x)\n",
    "\n",
    "        self.model = keras.models.Model(inputs=[lstm_input_phrase, lstm_input_cont, dense_input],\n",
    "                                        outputs=main_output)\n",
    "\n",
    "        optimizer = keras.optimizers.Adam(lr=0.0001)\n",
    "\n",
    "        self.model.compile(optimizer=optimizer, loss='binary_crossentropy')"
   ]
  },
  {
   "cell_type": "code",
   "execution_count": null,
   "metadata": {},
   "outputs": [],
   "source": [
    "def fit(self, x_lstm_phrase, x_lstm_context, x_dense, y,\n",
    "            val_split=0.25, patience=5, max_epochs=1000, batch_size=32):\n",
    "\n",
    "        x_lstm_phrase_seq = keras.preprocessing.sequence.pad_sequences(x_lstm_phrase)\n",
    "        x_lstm_context_seq = keras.preprocessing.sequence.pad_sequences(x_lstm_context)\n",
    "\n",
    "        y_onehot = onehot_transform(y)\n",
    "\n",
    "        self.model.fit([x_lstm_phrase_seq, x_lstm_context_seq, x_dense],\n",
    "                       y_onehot,\n",
    "                       batch_size=batch_size,\n",
    "                       pochs=max_epochs,\n",
    "                       validation_split=val_split,\n",
    "                       callbacks=[keras.callbacks.EarlyStopping(monitor='val_loss', patience=patience)])\n",
    "\n",
    "\n",
    "    def predict(self, x_lstm_phrase, x_lstm_context, x_dense):\n",
    "\n",
    "        x_lstm_phrase_seq = keras.preprocessing.sequence.pad_sequences(x_lstm_phrase)\n",
    "        x_lstm_context_seq = keras.preprocessing.sequence.pad_sequences(x_lstm_context)\n",
    "\n",
    "        y = self.model.predict([x_lstm_phrase_seq, x_lstm_context_seq, x_dense])\n",
    "\n",
    "        return y"
   ]
  },
  {
   "cell_type": "code",
   "execution_count": 3,
   "metadata": {},
   "outputs": [],
   "source": [
    "def onehot_transform(y):\n",
    "\n",
    "    onehot_y = []\n",
    "\n",
    "    for numb in y:\n",
    "        onehot_arr = np.zeros(2)\n",
    "        onehot_arr[numb] = 1\n",
    "        onehot_y.append(np.array(onehot_arr))\n",
    "\n",
    "    return np.array(onehot_y)"
   ]
  }
 ],
 "metadata": {
  "kernelspec": {
   "display_name": "Python 3",
   "language": "python",
   "name": "python3"
  },
  "language_info": {
   "codemirror_mode": {
    "name": "ipython",
    "version": 3
   },
   "file_extension": ".py",
   "mimetype": "text/x-python",
   "name": "python",
   "nbconvert_exporter": "python",
   "pygments_lexer": "ipython3",
   "version": "3.7.4"
  }
 },
 "nbformat": 4,
 "nbformat_minor": 2
}
